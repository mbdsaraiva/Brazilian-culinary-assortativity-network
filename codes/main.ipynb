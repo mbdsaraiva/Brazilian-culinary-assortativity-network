{
 "cells": [
  {
   "cell_type": "code",
   "execution_count": null,
   "metadata": {},
   "outputs": [],
   "source": [
    "import pandas as pd\n",
    "import networkx as nx\n",
    "import matplotlib.pyplot as plt\n",
    "import numpy as np\n",
    "from collections import Counter\n",
    "import matplotlib.patches as mpatches"
   ]
  },
  {
   "cell_type": "code",
   "execution_count": null,
   "metadata": {},
   "outputs": [],
   "source": [
    "# Dicionário de cores para cada tipo de ingrediente\n",
    "tipo_cores = {\n",
    "    'Carboidrato': 'green',\n",
    "    'Proteína': 'blue',\n",
    "    'Vegetal': 'orange',\n",
    "    'Laticínio': 'purple',\n",
    "    'Leguminosa': 'brown',\n",
    "    'Gordura': 'pink',\n",
    "    'Fruta': 'yellow',\n",
    "    'Condimento': 'red'\n",
    "}"
   ]
  },
  {
   "cell_type": "code",
   "execution_count": null,
   "metadata": {},
   "outputs": [],
   "source": [
    "# Carregar o arquivo CSV\n",
    "file_path = 'receitas.csv'  # Substitua pelo caminho correto do arquivo\n",
    "df = pd.read_csv(file_path, sep=\";\")"
   ]
  },
  {
   "cell_type": "code",
   "execution_count": null,
   "metadata": {},
   "outputs": [],
   "source": [
    "# Criar um grafo não direcionado\n",
    "G = nx.Graph()\n",
    "# Processar as receitas para adicionar os nós e arestas\n",
    "for index, row in df.iterrows():\n",
    "    ingredientes = row['ingredientes'].split(', ')\n",
    "    tipos = row['tipos de ingredientes'].split(', ')\n",
    "    \n",
    "    # Adicionando nós com atributos (tipo de ingrediente)\n",
    "    for i, ingrediente in enumerate(ingredientes):\n",
    "        if not G.has_node(ingrediente):\n",
    "            G.add_node(ingrediente, tipo=tipos[i])\n",
    "    \n",
    "    # Criar as arestas entre os ingredientes da mesma receita\n",
    "    for i in range(len(ingredientes)):\n",
    "        for j in range(i + 1, len(ingredientes)):\n",
    "            G.add_edge(ingredientes[i], ingredientes[j])"
   ]
  },
  {
   "cell_type": "code",
   "execution_count": null,
   "metadata": {},
   "outputs": [],
   "source": [
    "# Calcular o coeficiente de assortatividade por tipo\n",
    "assortatividade_por_tipo = nx.attribute_assortativity_coefficient(G, 'tipo')\n",
    "print(f'Coeficiente de assortatividade por tipo: {assortatividade_por_tipo}')"
   ]
  },
  {
   "cell_type": "code",
   "execution_count": null,
   "metadata": {},
   "outputs": [],
   "source": [
    "# Exibir o total de nós e arestas\n",
    "total_nos = len(G.nodes())\n",
    "total_arestas = len(G.edges())\n",
    "densidade = nx.density(G)\n",
    "print(f\"\\nTotal de nós: {total_nos}\")\n",
    "print(f\"Total de arestas: {total_arestas}\")\n",
    "print(f\"Densidade da rede: {densidade:.4f}\")"
   ]
  },
  {
   "cell_type": "code",
   "execution_count": null,
   "metadata": {},
   "outputs": [],
   "source": [
    "# Diâmetro da rede (se a rede for conexa)\n",
    "if nx.is_connected(G):\n",
    "    diametro = nx.diameter(G)\n",
    "    print(f\"Diâmetro da rede: {diametro}\")\n",
    "else:\n",
    "    print(\"A rede não é conexa, logo o diâmetro não pode ser calculado.\")"
   ]
  },
  {
   "cell_type": "code",
   "execution_count": null,
   "metadata": {},
   "outputs": [],
   "source": [
    "# Média do comprimento dos caminhos mais curtos\n",
    "comprimentos_caminho = nx.all_pairs_shortest_path_length(G)\n",
    "todos_caminhos = []\n",
    "for source, paths in comprimentos_caminho:\n",
    "    for target, length in paths.items():\n",
    "        if source != target:\n",
    "            todos_caminhos.append(length)\n",
    "media_caminhos = np.mean(todos_caminhos)\n",
    "print(f\"Média do comprimento dos caminhos mais curtos: {media_caminhos:.2f}\")"
   ]
  },
  {
   "cell_type": "code",
   "execution_count": null,
   "metadata": {},
   "outputs": [],
   "source": [
    "# Visualizar a rede com layout de força\n",
    "plt.figure(figsize=(14, 14))\n",
    "pos = nx.spring_layout(G, seed=42, k=1.0)\n",
    "node_colors = [tipo_cores.get(G.nodes[node]['tipo'], 'gray') for node in G.nodes()]\n",
    "node_sizes = [G.degree(node) * 100 for node in G.nodes()]\n",
    "nx.draw_networkx_nodes(G, pos, node_size=node_sizes, node_color=node_colors, edgecolors='black', alpha=0.7, linewidths=1.5)\n",
    "nx.draw_networkx_edges(G, pos, alpha=0.3, width=0.5)\n",
    "nx.draw_networkx_labels(G, pos, font_size=6, font_color='black')\n",
    "plt.legend(handles=[mpatches.Patch(color=color, label=tipo) for tipo, color in tipo_cores.items()], loc='upper left', fontsize=10)\n",
    "plt.title(\"Ingredient Network by Type\")\n",
    "plt.axis('off')\n",
    "plt.show()"
   ]
  }
 ],
 "metadata": {
  "kernelspec": {
   "display_name": "Python 3",
   "language": "python",
   "name": "python3"
  },
  "language_info": {
   "codemirror_mode": {
    "name": "ipython",
    "version": 3
   },
   "file_extension": ".py",
   "mimetype": "text/x-python",
   "name": "python",
   "pygments_lexer": "ipython3",
   "version": "3.8.10"
  }
 },
 "nbformat": 4,
 "nbformat_minor": 5
}
